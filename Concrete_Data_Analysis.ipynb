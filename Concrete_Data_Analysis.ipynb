{
 "cells": [
  {
   "cell_type": "code",
   "execution_count": 1,
   "metadata": {},
   "outputs": [],
   "source": [
    "import numpy as np\n",
    "import pandas as pd \n",
    "import matplotlib.pyplot as plt"
   ]
  },
  {
   "cell_type": "code",
   "execution_count": 2,
   "metadata": {},
   "outputs": [],
   "source": [
    "concrete = pd.read_csv(\"data/Concrete_Data.csv\")\n",
    "# Rename the columns\n",
    "concrete.columns = [\"cement\", \"slag\", \"ash\", \"water\", \"splast\", \"coarse\", \"fine\", \"age\", \"strength\"]"
   ]
  },
  {
   "cell_type": "code",
   "execution_count": 3,
   "metadata": {},
   "outputs": [
    {
     "data": {
      "text/html": [
       "<div>\n",
       "<style scoped>\n",
       "    .dataframe tbody tr th:only-of-type {\n",
       "        vertical-align: middle;\n",
       "    }\n",
       "\n",
       "    .dataframe tbody tr th {\n",
       "        vertical-align: top;\n",
       "    }\n",
       "\n",
       "    .dataframe thead th {\n",
       "        text-align: right;\n",
       "    }\n",
       "</style>\n",
       "<table border=\"1\" class=\"dataframe\">\n",
       "  <thead>\n",
       "    <tr style=\"text-align: right;\">\n",
       "      <th></th>\n",
       "      <th>cement</th>\n",
       "      <th>slag</th>\n",
       "      <th>ash</th>\n",
       "      <th>water</th>\n",
       "      <th>splast</th>\n",
       "      <th>coarse</th>\n",
       "      <th>fine</th>\n",
       "      <th>age</th>\n",
       "      <th>strength</th>\n",
       "    </tr>\n",
       "  </thead>\n",
       "  <tbody>\n",
       "    <tr>\n",
       "      <th>0</th>\n",
       "      <td>540.0</td>\n",
       "      <td>0.0</td>\n",
       "      <td>0.0</td>\n",
       "      <td>162.0</td>\n",
       "      <td>2.5</td>\n",
       "      <td>1040.0</td>\n",
       "      <td>676.0</td>\n",
       "      <td>28</td>\n",
       "      <td>79.99</td>\n",
       "    </tr>\n",
       "    <tr>\n",
       "      <th>1</th>\n",
       "      <td>540.0</td>\n",
       "      <td>0.0</td>\n",
       "      <td>0.0</td>\n",
       "      <td>162.0</td>\n",
       "      <td>2.5</td>\n",
       "      <td>1055.0</td>\n",
       "      <td>676.0</td>\n",
       "      <td>28</td>\n",
       "      <td>61.89</td>\n",
       "    </tr>\n",
       "    <tr>\n",
       "      <th>2</th>\n",
       "      <td>332.5</td>\n",
       "      <td>142.5</td>\n",
       "      <td>0.0</td>\n",
       "      <td>228.0</td>\n",
       "      <td>0.0</td>\n",
       "      <td>932.0</td>\n",
       "      <td>594.0</td>\n",
       "      <td>270</td>\n",
       "      <td>40.27</td>\n",
       "    </tr>\n",
       "    <tr>\n",
       "      <th>3</th>\n",
       "      <td>332.5</td>\n",
       "      <td>142.5</td>\n",
       "      <td>0.0</td>\n",
       "      <td>228.0</td>\n",
       "      <td>0.0</td>\n",
       "      <td>932.0</td>\n",
       "      <td>594.0</td>\n",
       "      <td>365</td>\n",
       "      <td>41.05</td>\n",
       "    </tr>\n",
       "    <tr>\n",
       "      <th>4</th>\n",
       "      <td>198.6</td>\n",
       "      <td>132.4</td>\n",
       "      <td>0.0</td>\n",
       "      <td>192.0</td>\n",
       "      <td>0.0</td>\n",
       "      <td>978.4</td>\n",
       "      <td>825.5</td>\n",
       "      <td>360</td>\n",
       "      <td>44.30</td>\n",
       "    </tr>\n",
       "  </tbody>\n",
       "</table>\n",
       "</div>"
      ],
      "text/plain": [
       "   cement   slag  ash  water  splast  coarse   fine  age  strength\n",
       "0   540.0    0.0  0.0  162.0     2.5  1040.0  676.0   28     79.99\n",
       "1   540.0    0.0  0.0  162.0     2.5  1055.0  676.0   28     61.89\n",
       "2   332.5  142.5  0.0  228.0     0.0   932.0  594.0  270     40.27\n",
       "3   332.5  142.5  0.0  228.0     0.0   932.0  594.0  365     41.05\n",
       "4   198.6  132.4  0.0  192.0     0.0   978.4  825.5  360     44.30"
      ]
     },
     "execution_count": 3,
     "metadata": {},
     "output_type": "execute_result"
    }
   ],
   "source": [
    "concrete.head()"
   ]
  },
  {
   "cell_type": "code",
   "execution_count": 4,
   "metadata": {},
   "outputs": [
    {
     "name": "stdout",
     "output_type": "stream",
     "text": [
      "<class 'pandas.core.frame.DataFrame'>\n",
      "RangeIndex: 1030 entries, 0 to 1029\n",
      "Data columns (total 9 columns):\n",
      " #   Column    Non-Null Count  Dtype  \n",
      "---  ------    --------------  -----  \n",
      " 0   cement    1030 non-null   float64\n",
      " 1   slag      1030 non-null   float64\n",
      " 2   ash       1030 non-null   float64\n",
      " 3   water     1030 non-null   float64\n",
      " 4   splast    1030 non-null   float64\n",
      " 5   coarse    1030 non-null   float64\n",
      " 6   fine      1030 non-null   float64\n",
      " 7   age       1030 non-null   int64  \n",
      " 8   strength  1030 non-null   float64\n",
      "dtypes: float64(8), int64(1)\n",
      "memory usage: 72.5 KB\n"
     ]
    }
   ],
   "source": [
    "concrete.info()"
   ]
  },
  {
   "cell_type": "code",
   "execution_count": 5,
   "metadata": {},
   "outputs": [],
   "source": [
    "number_of_samples, number_of_features  = concrete.shape"
   ]
  },
  {
   "cell_type": "code",
   "execution_count": 6,
   "metadata": {},
   "outputs": [],
   "source": [
    "#Initializing X and Y according to shape and converting to numpy arrays\n",
    "X = concrete.iloc[:,0:number_of_features-1].values\n",
    "y = concrete.iloc[:,number_of_features-1:number_of_features].values\n",
    "\n",
    "#Initializing theta\n",
    "theta = np.zeros((number_of_features,1))"
   ]
  },
  {
   "cell_type": "code",
   "execution_count": 7,
   "metadata": {},
   "outputs": [],
   "source": [
    "def feature_normalization(X):\n",
    "    \"\"\"\n",
    "    Normalizes the features in X. returns a normalized version of X where\n",
    "    the mean value of each feature is 0 and the standard deviation\n",
    "    is 1. This is often a good preprocessing step to do when working with\n",
    "    learning algorithms.\n",
    "    \n",
    "    Parameters\n",
    "    ----------\n",
    "    X : array_like\n",
    "        The dataset of shape (m x n).\n",
    "    \n",
    "    Returns\n",
    "    -------\n",
    "    X_normalized : array_like\n",
    "        The normalized dataset of shape (m x n).\n",
    "    mean: array_like\n",
    "        Mean of every column\n",
    "    standard_deviation : array_like\n",
    "        Standard Deviation of every column\n",
    "    \"\"\"\n",
    "    standard_deviation = np.std(X, axis= 0)\n",
    "    mean = np.mean(X, axis= 0)\n",
    "    X_normalized = (X - mean)/ standard_deviation\n",
    "    \n",
    "    return X_normalized, mean, standard_deviation"
   ]
  },
  {
   "cell_type": "code",
   "execution_count": 8,
   "metadata": {},
   "outputs": [],
   "source": [
    "normalized_X, mean_X, standard_deviation_X = feature_normalization(X)"
   ]
  },
  {
   "cell_type": "code",
   "execution_count": 9,
   "metadata": {},
   "outputs": [],
   "source": [
    "#Adding the columns of 1s to X \n",
    "X = np.concatenate((np.ones((number_of_samples,1)),normalized_X), axis = 1)"
   ]
  },
  {
   "cell_type": "code",
   "execution_count": 10,
   "metadata": {},
   "outputs": [],
   "source": [
    "def cost_function(X,y,theta):\n",
    "    \"\"\"\n",
    "    Compute cost for linear regression with multiple variables.\n",
    "    Computes the cost of using theta as the parameter for linear regression to fit the data points in X and y.\n",
    "    \n",
    "    Parameters\n",
    "    ----------\n",
    "    X : array_like\n",
    "        The dataset of shape (m x n+1).\n",
    "    \n",
    "    y : array_like\n",
    "        A vector of shape (m, ) for the values at a given data point.\n",
    "    \n",
    "    theta : array_like\n",
    "        The linear regression parameters. A vector of shape (n+1, )\n",
    "    \n",
    "    Returns\n",
    "    -------\n",
    "    J : float\n",
    "        The value of the cost function. \n",
    "    \"\"\"\n",
    "    #Initialisation of useful values \n",
    "    m = np.size(y)\n",
    "    J = 0\n",
    "    \n",
    "    #Hypothesis function in vectorized form\n",
    "    h = np.dot(X,theta)\n",
    "\n",
    "    #Cost function in vectorized form\n",
    "    J = float((1./(2*m)) * np.dot((h - y).T, (h - y)));    \n",
    "    return J"
   ]
  },
  {
   "cell_type": "code",
   "execution_count": 11,
   "metadata": {},
   "outputs": [],
   "source": [
    "def gradient_descent(X, y, theta, learning_rate = 0.0005, iteration=1000):\n",
    "    \"\"\"\n",
    "    Performs gradient descent to learn theta.\n",
    "    Updates theta by taking num_iters gradient steps with learning rate alpha.\n",
    "        \n",
    "    Parameters\n",
    "    ----------\n",
    "    X : array_like\n",
    "        The dataset of shape (m x n+1).\n",
    "    \n",
    "    y : array_like\n",
    "        A vector of shape (m, ) for the values at a given data point.\n",
    "    \n",
    "    theta : array_like\n",
    "        The linear regression parameters. A vector of shape (n+1, )\n",
    "    \n",
    "    learning_rate : float\n",
    "        The learning rate for gradient descent. \n",
    "    \n",
    "    iteration : int\n",
    "        The number of iterations to run gradient descent. \n",
    "    \n",
    "    Returns\n",
    "    -------\n",
    "    theta : array_like\n",
    "        The learned linear regression parameters. A vector of shape (n+1, ).\n",
    "    \n",
    "    J_history : list\n",
    "        A python list for the values of the cost function after each iteration.\n",
    "        \n",
    "    theta_history : list\n",
    "        A python list for the values of theta per each iteration and store them in a list\n",
    "    \n",
    "    \"\"\"\n",
    "    #Initialisation of useful values \n",
    "    m = np.size(y)\n",
    "    J_history = np.zeros(iteration)\n",
    "\n",
    "    for i in range(iteration):\n",
    "        #Hypothesis function\n",
    "        h = np.dot(X,theta)\n",
    "        \n",
    "        #Calculating the grad function in vectorized form\n",
    "        theta = theta - learning_rate * (1/m)* (X.T.dot(h-y))\n",
    "        J_history[i] = cost_function(X,y,theta)\n",
    "    optimized_hypothesis= h\n",
    "    return theta, J_history, optimized_hypothesis"
   ]
  },
  {
   "cell_type": "code",
   "execution_count": 19,
   "metadata": {},
   "outputs": [],
   "source": [
    "# initialize parameter - theta is defined before\n",
    "learning_rate= .1\n",
    "iteration= 1000\n",
    "# run gradient descent\n",
    "theta_optimized , cost_function_history, optimized_hypothesis= gradient_descent(X, y, theta, learning_rate, iteration)"
   ]
  },
  {
   "cell_type": "code",
   "execution_count": 20,
   "metadata": {},
   "outputs": [
    {
     "data": {
      "image/png": "[encoded data removed]",
      "text/plain": [
       "<Figure size 864x504 with 1 Axes>"
      ]
     },
     "metadata": {
      "needs_background": "light"
     },
     "output_type": "display_data"
    }
   ],
   "source": [
    "plt.figure(figsize= (12,7))\n",
    "plt.plot(range(1000), cost_function_history, color= \"teal\", linewidth= 3)\n",
    "plt.xlabel(\"# Iteration\")\n",
    "plt.ylabel(\"Cost Value\")\n",
    "plt.title(\"Cost value during Iteration\")\n",
    "plt.show()"
   ]
  },
  {
   "cell_type": "code",
   "execution_count": 26,
   "metadata": {},
   "outputs": [],
   "source": [
    "def r_squared(predicted_hypothesis, actual_y):\n",
    "    \"\"\"\n",
    "    Calculate r_squared parameter for model accuracy\n",
    "    range of output is between 0 and 1, when accuracy is higher means we have better model.\n",
    "        \n",
    "    Parameters\n",
    "    ----------\n",
    "    predicted_hypothesis : array_like\n",
    "        Best theta dot X that is out best prediction.\n",
    "    \n",
    "    actual_y : array_like\n",
    "        Actual values of our dataset, the column that is our answer.\n",
    "    \n",
    "    Returns\n",
    "    -------\n",
    "    r_squared : float\n",
    "        Model accuracy, higher is better (most of the time)\n",
    "    \"\"\"\n",
    "    # parameters\n",
    "    sum_of_squared_residuals= np.sum(np.square(actual_y - predicted_hypothesis))\n",
    "    \n",
    "    sum_of_squared_total= np.sum(np.square(actual_y - np.mean(actual_y)))\n",
    "    \n",
    "    r_squared= 1 - ((float(sum_of_squared_residuals))/sum_of_squared_total)\n",
    "    \n",
    "    return r_squared"
   ]
  },
  {
   "cell_type": "code",
   "execution_count": 36,
   "metadata": {},
   "outputs": [
    {
     "name": "stdout",
     "output_type": "stream",
     "text": [
      "R Squared for Linear Regression is: 0.6154832293742327\n"
     ]
    }
   ],
   "source": [
    "r_squared_predicted= r_squared(optimized_hypothesis, y)\n",
    "print(\"R Squared for Linear Regression is: {}\".format(r_squared_predicted))"
   ]
  },
  {
   "cell_type": "code",
   "execution_count": 28,
   "metadata": {},
   "outputs": [],
   "source": [
    "def adjusted_r_squared(r_squared, actual_y):\n",
    "    \"\"\"\n",
    "    Find out adjusted_r_squared parameter for model accuracy\n",
    "    range of output is between 0 and 1, when accuracy is higher means we have better model.\n",
    "    instead of r_squared this metric is better option for reports\n",
    "    \n",
    "    Parameters\n",
    "    ----------\n",
    "    r_squared : float\n",
    "        r_squared value metric.\n",
    "    \n",
    "    actual_y : array_like\n",
    "        Actual values of our dataset, the column that is our answer.\n",
    "    \n",
    "    Returns\n",
    "    -------\n",
    "    adjusted_r_squared : float\n",
    "        Model accuracy, higher is better (most of the time)\n",
    "    \"\"\"\n",
    "    \n",
    "    # initialize values\n",
    "    number_of_samples, number_of_features= X.shape\n",
    "    # number of features have surplus value because of intercept values that we added a vector for another features\n",
    "    number_of_features -= 1\n",
    "    # adjusted R squared formula\n",
    "    adjusted_r_squared= 1 - (1 - r_squared) * (number_of_samples - 1)/(number_of_samples - number_of_features - 1)\n",
    "    return adjusted_r_squared"
   ]
  },
  {
   "cell_type": "code",
   "execution_count": 37,
   "metadata": {},
   "outputs": [
    {
     "name": "stdout",
     "output_type": "stream",
     "text": [
      "Adjusted R Squared for Linear Regression is: 0.6124703653536586\n"
     ]
    }
   ],
   "source": [
    "adjusted_r_squared_predicted= adjusted_r_squared(r_squared_predicted, y)\n",
    "print(\"Adjusted R Squared for Linear Regression is: {}\".format(adjusted_r_squared_predicted))"
   ]
  },
  {
   "cell_type": "code",
   "execution_count": 41,
   "metadata": {},
   "outputs": [
    {
     "name": "stdout",
     "output_type": "stream",
     "text": [
      "Optimized theta: [[35.81796117]\n",
      " [12.25484493]\n",
      " [ 8.70283503]\n",
      " [ 5.40277888]\n",
      " [-3.4258435 ]\n",
      " [ 1.71476931]\n",
      " [ 1.20250345]\n",
      " [ 1.36604147]\n",
      " [ 7.20440571]]\n"
     ]
    }
   ],
   "source": [
    "print(\"Optimized theta: {}\".format(theta_optimized))"
   ]
  },
  {
   "cell_type": "markdown",
   "metadata": {},
   "source": [
    "## Implementation with Normal Equation"
   ]
  },
  {
   "cell_type": "code",
   "execution_count": 42,
   "metadata": {},
   "outputs": [],
   "source": [
    "concrete = pd.read_csv(\"data/Concrete_Data.csv\")\n",
    "# Rename the columns\n",
    "concrete.columns = [\"cement\", \"slag\", \"ash\", \"water\", \"splast\", \"coarse\", \"fine\", \"age\", \"strength\"]"
   ]
  },
  {
   "cell_type": "code",
   "execution_count": 43,
   "metadata": {},
   "outputs": [],
   "source": [
    "#Initializing X and Y according to shape and converting to numpy arrays\n",
    "X = concrete.iloc[:,0:number_of_features-1].values\n",
    "y = concrete.iloc[:,number_of_features-1:number_of_features].values\n",
    "\n",
    "#Initializing theta\n",
    "theta = np.zeros((number_of_features,1))"
   ]
  },
  {
   "cell_type": "code",
   "execution_count": 44,
   "metadata": {},
   "outputs": [],
   "source": [
    "#Adding the columns of 1s to X \n",
    "X = np.concatenate((np.ones((number_of_samples,1)),normalized_X), axis = 1)"
   ]
  },
  {
   "cell_type": "code",
   "execution_count": 45,
   "metadata": {},
   "outputs": [],
   "source": [
    "def normal_equation(X, y):\n",
    "    \"\"\"\n",
    "    Computes the closed-form solution to linear regression using the normal equations.\n",
    "    \n",
    "    Parameters\n",
    "    ----------\n",
    "    X : array_like\n",
    "        The dataset of shape (m x n+1).\n",
    "    \n",
    "    y : array_like\n",
    "        The value at each data point. A vector of shape (m, ).\n",
    "    \n",
    "    Returns\n",
    "    -------\n",
    "    theta : array_like\n",
    "        Estimated linear regression parameters. A vector of shape (n+1, ).\n",
    "    \"\"\"\n",
    "    # initialize theta with zero values\n",
    "    theta = np.zeros(X.shape[1])\n",
    "    theta = np.dot(np.dot(np.linalg.pinv(np.dot(X.T, X)), X.T), y)\n",
    "    return theta"
   ]
  },
  {
   "cell_type": "code",
   "execution_count": 46,
   "metadata": {},
   "outputs": [],
   "source": [
    "theta = normal_equation(X, y)"
   ]
  },
  {
   "cell_type": "code",
   "execution_count": 51,
   "metadata": {},
   "outputs": [],
   "source": [
    "optimized_hypothesis_with_normal_equation= np.dot(X, theta)"
   ]
  },
  {
   "cell_type": "code",
   "execution_count": 55,
   "metadata": {},
   "outputs": [
    {
     "name": "stdout",
     "output_type": "stream",
     "text": [
      "R Squared for Linear Regression is: 0.6155198704142721\n"
     ]
    }
   ],
   "source": [
    "r_squared_predicted_with_normal_equation= r_squared(optimized_hypothesis_with_normal_equation, y)\n",
    "print(\"R Squared for Linear Regression is: {}\".format(r_squared_predicted_with_normal_equation))"
   ]
  },
  {
   "cell_type": "code",
   "execution_count": 56,
   "metadata": {},
   "outputs": [
    {
     "name": "stdout",
     "output_type": "stream",
     "text": [
      "Adjusted R Squared for Linear Regression is: 0.6125072934929344\n"
     ]
    }
   ],
   "source": [
    "adjusted_r_squared_predicted_with_normal_equation= adjusted_r_squared(r_squared_predicted_with_normal_equation, y)\n",
    "print(\"Adjusted R Squared for Linear Regression is: {}\".format(adjusted_r_squared_predicted_with_normal_equation))"
   ]
  },
  {
   "cell_type": "code",
   "execution_count": null,
   "metadata": {},
   "outputs": [],
   "source": []
  }
 ],
 "metadata": {
  "kernelspec": {
   "display_name": "Python 3",
   "language": "python",
   "name": "python3"
  },
  "language_info": {
   "codemirror_mode": {
    "name": "ipython",
    "version": 3
   },
   "file_extension": ".py",
   "mimetype": "text/x-python",
   "name": "python",
   "nbconvert_exporter": "python",
   "pygments_lexer": "ipython3",
   "version": "3.7.7"
  }
 },
 "nbformat": 4,
 "nbformat_minor": 4
}
